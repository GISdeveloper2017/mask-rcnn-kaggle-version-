{
 "cells": [
  {
   "cell_type": "code",
   "execution_count": 1,
   "metadata": {},
   "outputs": [
    {
     "name": "stderr",
     "output_type": "stream",
     "text": [
      "d:\\python35\\lib\\site-packages\\h5py\\__init__.py:36: FutureWarning: Conversion of the second argument of issubdtype from `float` to `np.floating` is deprecated. In future, it will be treated as `np.float64 == np.dtype(float).type`.\n",
      "  from ._conv import register_converters as _register_converters\n",
      "Using TensorFlow backend.\n"
     ]
    }
   ],
   "source": [
    "from gsample import *"
   ]
  },
  {
   "cell_type": "code",
   "execution_count": 2,
   "metadata": {},
   "outputs": [],
   "source": [
    "img_size = 256\n",
    "batch_size = 8\n",
    "train_path = 'E:/kaggle/2018data/stage1_train/'\n",
    "test_path = 'E:/kaggle/2018data/stage1_test/'\n",
    "import utils"
   ]
  },
  {
   "cell_type": "code",
   "execution_count": 3,
   "metadata": {},
   "outputs": [],
   "source": [
    "X_train, Y_train, X_test, sizes_test, train_id = make_df(train_path, test_path, img_size)"
   ]
  },
  {
   "cell_type": "code",
   "execution_count": 6,
   "metadata": {},
   "outputs": [
    {
     "name": "stdout",
     "output_type": "stream",
     "text": [
      "fuck  69\n",
      "fuck  225\n",
      "fuck  340\n",
      "fuck  340\n"
     ]
    }
   ],
   "source": [
    "from utils import *\n",
    "for i in range(670):\n",
    "    bbox = extract_bboxes(Y_train[i])\n",
    "    for j in range(Y_train[i].shape[-1]):\n",
    "        tmp_bbox = bbox[j]\n",
    "        if tmp_bbox[0]==tmp_bbox[2] and tmp_bbox[1]==tmp_bbox[3]:\n",
    "            print(\"fuck \",i)"
   ]
  },
  {
   "cell_type": "code",
   "execution_count": 7,
   "metadata": {},
   "outputs": [
    {
     "data": {
      "text/plain": [
       "'7f38885521586fc6011bef1314a9fb2aa1e4935bd581b2991e1d963395eab770'"
      ]
     },
     "execution_count": 7,
     "metadata": {},
     "output_type": "execute_result"
    }
   ],
   "source": [
    "train_id[340]"
   ]
  },
  {
   "cell_type": "code",
   "execution_count": 5,
   "metadata": {},
   "outputs": [],
   "source": [
    "class shapesDataset(utils.Dataset):\n",
    "    def __init__(self, image, mask, num):\n",
    "        self.image = list(image)\n",
    "        self.mask = list(mask)\n",
    "        self.count = num\n",
    "        #self.class_info = [{\"source\": \"\", \"id\": 0, \"name\": \"BG\"}]\n",
    "        self._image_ids = []\n",
    "        self.image_info = []\n",
    "        # Background is always the first class\n",
    "        self.class_info = [{\"source\": \"\", \"id\": 0, \"name\": \"BG\"}]\n",
    "        self.source_class_ids = {}\n",
    "        self.height = 256\n",
    "        self.width = 256\n",
    "\n",
    "    def load_kernel(self, count, height, width):\n",
    "        \"\"\"Generate the requested number of synthetic images.\n",
    "        count: number of images to generate.\n",
    "        height, width: the size of the generated images.\n",
    "        \"\"\"\n",
    "        # Add classes\n",
    "        self.height,self.width = height,width\n",
    "        self.add_class(\"shapes\", 1, \"kernel\")\n",
    "\n",
    "        for i in range(count):\n",
    "            #bg_color, shapes = self.random_image(height, width)\n",
    "            self.add_image(\"shapes\", image_id=i, path=None,\n",
    "                           width=width, height=height)\n",
    "\n",
    "    def load_image(self, image_id):\n",
    "        return np.array(self.image[image_id])\n",
    "\n",
    "    def image_reference(self, image_id):\n",
    "        \"\"\"Return the shapes data of the image.\"\"\"\n",
    "        info = self.image_info[image_id]\n",
    "        if info[\"source\"] == \"shapes\":\n",
    "            return info[\"shapes\"]\n",
    "        else:\n",
    "            super(self.__class__).image_reference(self, image_id)\n",
    "\n",
    "    def load_mask(self, image_id):\n",
    "        mask_num = self.mask[image_id].shape[2]\n",
    "        return np.array(self.mask[image_id]),np.ones((mask_num,),dtype=int)"
   ]
  },
  {
   "cell_type": "code",
   "execution_count": 6,
   "metadata": {},
   "outputs": [],
   "source": [
    "import os\n",
    "import sys\n",
    "import random\n",
    "import math\n",
    "import re\n",
    "import time\n",
    "import numpy as np\n",
    "import cv2\n",
    "import matplotlib\n",
    "import matplotlib.pyplot as plt\n",
    "\n",
    "from config import Config\n",
    "import utils\n",
    "import model as modellib\n",
    "import visualize\n",
    "from model import log\n",
    "import skimage\n",
    "from data import *\n",
    "from gsample import *\n",
    "import scipy.io as sio\n",
    "\n",
    "class shapesConfig(Config):\n",
    "    \"\"\"Configuration for training on the toy shapes dataset.\n",
    "    Derives from the base Config class and overrides values specific\n",
    "    to the toy shapes dataset.\n",
    "    \"\"\"\n",
    "    # Give the configuration a recognizable name\n",
    "    NAME = \"shapes\"\n",
    "    STEPS_PER_EPOCH = 100\n",
    "    # Train on 1 GPU and 8 images per GPU. We can put multiple images on each\n",
    "    # GPU because the images are small. Batch size is 8 (GPUs * images/GPU).\n",
    "    GPU_COUNT = 8\n",
    "    IMAGES_PER_GPU = 8\n",
    "\n",
    "    # Number of classes (including background)\n",
    "    NUM_CLASSES = 1 + 1  # background + 1 shapes\n",
    "\n",
    "    # Use small images for faster training. Set the limits of the small side\n",
    "    # the large side, and that determines the image shape.\n",
    "    #IMAGE_MIN_DIM = 128#not sure?\n",
    "    #IMAGE_MAX_DIM = 128\n",
    "\n",
    "class InferenceConfig(shapesConfig):\n",
    "    GPU_COUNT = 8\n",
    "    IMAGES_PER_GPU = 8"
   ]
  },
  {
   "cell_type": "code",
   "execution_count": 7,
   "metadata": {},
   "outputs": [
    {
     "name": "stdout",
     "output_type": "stream",
     "text": [
      "\n",
      "Configurations:\n",
      "BACKBONE_SHAPES                [[256 256]\n",
      " [128 128]\n",
      " [ 64  64]\n",
      " [ 32  32]\n",
      " [ 16  16]]\n",
      "BACKBONE_STRIDES               [4, 8, 16, 32, 64]\n",
      "BATCH_SIZE                     64\n",
      "BBOX_STD_DEV                   [0.1 0.1 0.2 0.2]\n",
      "DETECTION_MAX_INSTANCES        100\n",
      "DETECTION_MIN_CONFIDENCE       0.7\n",
      "DETECTION_NMS_THRESHOLD        0.3\n",
      "GPU_COUNT                      8\n",
      "IMAGES_PER_GPU                 8\n",
      "IMAGE_MAX_DIM                  1024\n",
      "IMAGE_MIN_DIM                  800\n",
      "IMAGE_PADDING                  True\n",
      "IMAGE_SHAPE                    [1024 1024    3]\n",
      "LEARNING_MOMENTUM              0.9\n",
      "LEARNING_RATE                  0.001\n",
      "MASK_POOL_SIZE                 14\n",
      "MASK_SHAPE                     [28, 28]\n",
      "MAX_GT_INSTANCES               100\n",
      "MEAN_PIXEL                     [123.7 116.8 103.9]\n",
      "MINI_MASK_SHAPE                (56, 56)\n",
      "NAME                           shapes\n",
      "NUM_CLASSES                    2\n",
      "POOL_SIZE                      7\n",
      "POST_NMS_ROIS_INFERENCE        1000\n",
      "POST_NMS_ROIS_TRAINING         2000\n",
      "ROI_POSITIVE_RATIO             0.33\n",
      "RPN_ANCHOR_RATIOS              [0.5, 1, 2]\n",
      "RPN_ANCHOR_SCALES              (32, 64, 128, 256, 512)\n",
      "RPN_ANCHOR_STRIDE              1\n",
      "RPN_BBOX_STD_DEV               [0.1 0.1 0.2 0.2]\n",
      "RPN_NMS_THRESHOLD              0.7\n",
      "RPN_TRAIN_ANCHORS_PER_IMAGE    256\n",
      "STEPS_PER_EPOCH                100\n",
      "TRAIN_ROIS_PER_IMAGE           200\n",
      "USE_MINI_MASK                  True\n",
      "USE_RPN_ROIS                   True\n",
      "VALIDATION_STEPS               50\n",
      "WEIGHT_DECAY                   0.0001\n",
      "\n",
      "\n"
     ]
    }
   ],
   "source": [
    "config = shapesConfig()\n",
    "config.display()\n",
    "data_train = shapesDataset(X_train,Y_train,len(X_train))\n",
    "data_train.load_kernel(len(X_train),img_size,img_size)\n",
    "data_train.prepare()\n",
    "data_val = shapesDataset(X_train,Y_train,len(X_train))\n",
    "data_val.load_kernel(len(X_train),img_size,img_size)\n",
    "data_val.prepare()\n",
    "#data_val = shapesDataset(xval,yval,len(xval))\n",
    "#data_val.load_kernel(len(xval),img_size,img_size)\n",
    "#data_val.prepare()"
   ]
  },
  {
   "cell_type": "code",
   "execution_count": 8,
   "metadata": {},
   "outputs": [],
   "source": [
    "model = modellib.MaskRCNN(mode=\"training\", config=config,\n",
    "                          model_dir=MODEL_DIR)\n",
    "model.load_weights(COCO_MODEL_PATH, by_name=True,\n",
    "                           exclude=[\"mrcnn_class_logits\", \"mrcnn_bbox_fc\",\n",
    "                                    \"mrcnn_bbox\", \"mrcnn_mask\"])"
   ]
  },
  {
   "cell_type": "code",
   "execution_count": null,
   "metadata": {},
   "outputs": [
    {
     "name": "stdout",
     "output_type": "stream",
     "text": [
      "\n",
      "Starting at epoch 0. LR=0.0001\n",
      "\n",
      "Checkpoint Path: E:\\mask_rcnn\\logs\\shapes20180309T1633\\mask_rcnn_shapes_{epoch:04d}.h5\n",
      "Selecting layers to train\n",
      "fpn_c5p5               (Conv2D)\n",
      "fpn_c4p4               (Conv2D)\n",
      "fpn_c3p3               (Conv2D)\n",
      "fpn_c2p2               (Conv2D)\n",
      "fpn_p5                 (Conv2D)\n",
      "fpn_p2                 (Conv2D)\n",
      "fpn_p3                 (Conv2D)\n",
      "fpn_p4                 (Conv2D)\n",
      "In model:  rpn_model\n",
      "    rpn_conv_shared        (Conv2D)\n",
      "    rpn_class_raw          (Conv2D)\n",
      "    rpn_bbox_pred          (Conv2D)\n",
      "mrcnn_mask_conv1       (TimeDistributed)\n",
      "mrcnn_mask_bn1         (TimeDistributed)\n",
      "mrcnn_mask_conv2       (TimeDistributed)\n",
      "mrcnn_mask_bn2         (TimeDistributed)\n",
      "mrcnn_class_conv1      (TimeDistributed)\n",
      "mrcnn_class_bn1        (TimeDistributed)\n",
      "mrcnn_mask_conv3       (TimeDistributed)\n",
      "mrcnn_mask_bn3         (TimeDistributed)\n",
      "mrcnn_class_conv2      (TimeDistributed)\n",
      "mrcnn_class_bn2        (TimeDistributed)\n",
      "mrcnn_mask_conv4       (TimeDistributed)\n",
      "mrcnn_mask_bn4         (TimeDistributed)\n",
      "mrcnn_bbox_fc          (TimeDistributed)\n",
      "mrcnn_mask_deconv      (TimeDistributed)\n",
      "mrcnn_class_logits     (TimeDistributed)\n",
      "mrcnn_mask             (TimeDistributed)\n"
     ]
    },
    {
     "name": "stderr",
     "output_type": "stream",
     "text": [
      "d:\\python35\\lib\\site-packages\\tensorflow\\python\\ops\\gradients_impl.py:96: UserWarning: Converting sparse IndexedSlices to a dense Tensor of unknown shape. This may consume a large amount of memory.\n",
      "  \"Converting sparse IndexedSlices to a dense Tensor of unknown shape. \"\n"
     ]
    },
    {
     "name": "stdout",
     "output_type": "stream",
     "text": [
      "Epoch 1/10\n"
     ]
    }
   ],
   "source": [
    "model.train(data_train, data_val,\n",
    "                learning_rate=config.LEARNING_RATE / 10,\n",
    "                epochs=10,\n",
    "                layers=\"heads\")"
   ]
  },
  {
   "cell_type": "code",
   "execution_count": 13,
   "metadata": {},
   "outputs": [],
   "source": []
  },
  {
   "cell_type": "code",
   "execution_count": 17,
   "metadata": {},
   "outputs": [],
   "source": [
    "path = train_path+train_id[39]\n",
    "mask = np.zeros((256,256,62))\n",
    "j=0\n",
    "for mask_file in next(os.walk(path + '/masks/'))[2]:\n",
    "            mask_ = cv2.imread(path + '/masks/' + mask_file, 0)\n",
    "            mask_ = cv2.resize(mask_, (img_size, img_size))\n",
    "            #mask_ = mask_[:, :, np.newaxis]\n",
    "            mask[:,:,j] = mask_\n",
    "            j += 1"
   ]
  },
  {
   "cell_type": "code",
   "execution_count": 18,
   "metadata": {},
   "outputs": [],
   "source": [
    "bbox = extract_bboxes(mask)"
   ]
  },
  {
   "cell_type": "code",
   "execution_count": 19,
   "metadata": {},
   "outputs": [
    {
     "data": {
      "text/plain": [
       "array([[  3, 170,  20, 194],\n",
       "       [ 35, 165,  53, 180],\n",
       "       [ 19, 186,  39, 207],\n",
       "       [ 88,  88, 114, 112],\n",
       "       [156, 180, 162, 186],\n",
       "       [ 57, 208,  76, 236],\n",
       "       [217,  15, 233,  31],\n",
       "       [236, 199, 256, 229],\n",
       "       [ 19, 105,  44, 126],\n",
       "       [237, 231, 256, 256],\n",
       "       [195,  66, 216,  86],\n",
       "       [134, 151, 156, 173],\n",
       "       [163, 214, 178, 228],\n",
       "       [234,   6, 246,  26],\n",
       "       [193, 139, 213, 162],\n",
       "       [130, 180, 164, 208],\n",
       "       [251, 167, 256, 179],\n",
       "       [167, 227, 182, 245],\n",
       "       [  0, 220,  15, 240],\n",
       "       [ 13,  83,  35, 103],\n",
       "       [236, 196, 241, 202],\n",
       "       [130,  96, 140, 107],\n",
       "       [ 64, 228,  89, 243],\n",
       "       [ 44, 189,  64, 209],\n",
       "       [179, 191, 196, 211],\n",
       "       [198, 200, 212, 215],\n",
       "       [  3, 247,  22, 256],\n",
       "       [ 82, 252,  93, 256],\n",
       "       [ 35, 225,  56, 245],\n",
       "       [188, 213, 212, 237],\n",
       "       [155, 150, 167, 169],\n",
       "       [134,  80, 159, 103],\n",
       "       [181, 249, 195, 256],\n",
       "       [128, 246, 144, 256],\n",
       "       [ 16, 168,  33, 186],\n",
       "       [234, 133, 256, 150],\n",
       "       [217, 187, 233, 202],\n",
       "       [168, 173, 173, 178],\n",
       "       [209, 201, 233, 230],\n",
       "       [244, 169, 249, 174],\n",
       "       [228, 168, 241, 180],\n",
       "       [  0, 204,  18, 222],\n",
       "       [247,  51, 256,  76],\n",
       "       [198,  15, 216,  38],\n",
       "       [156, 120, 182, 141],\n",
       "       [225,  85, 236,  96],\n",
       "       [232, 206, 237, 211],\n",
       "       [206, 167, 222, 185],\n",
       "       [ 35, 247,  57, 256],\n",
       "       [231,  45, 252,  75],\n",
       "       [189, 171, 206, 194],\n",
       "       [ 90, 222, 117, 241],\n",
       "       [ 15, 225,  35, 247],\n",
       "       [202, 240, 225, 256],\n",
       "       [195, 111, 217, 133],\n",
       "       [177,  93, 201, 115],\n",
       "       [243,   6, 256,  27],\n",
       "       [218, 147, 235, 164],\n",
       "       [ 89, 167, 116, 206],\n",
       "       [102, 131, 123, 152],\n",
       "       [140, 228, 156, 245],\n",
       "       [171, 152, 191, 171]])"
      ]
     },
     "execution_count": 19,
     "metadata": {},
     "output_type": "execute_result"
    }
   ],
   "source": [
    "bbox"
   ]
  },
  {
   "cell_type": "code",
   "execution_count": null,
   "metadata": {},
   "outputs": [],
   "source": []
  }
 ],
 "metadata": {
  "kernelspec": {
   "display_name": "Python 3",
   "language": "python",
   "name": "python3"
  },
  "language_info": {
   "codemirror_mode": {
    "name": "ipython",
    "version": 3
   },
   "file_extension": ".py",
   "mimetype": "text/x-python",
   "name": "python",
   "nbconvert_exporter": "python",
   "pygments_lexer": "ipython3",
   "version": "3.5.2"
  }
 },
 "nbformat": 4,
 "nbformat_minor": 2
}
